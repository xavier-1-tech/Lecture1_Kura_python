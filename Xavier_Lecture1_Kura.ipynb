{
  "nbformat": 4,
  "nbformat_minor": 0,
  "metadata": {
    "colab": {
      "name": "Xavier_Lecture1_Kura.ipynb",
      "provenance": [],
      "include_colab_link": true
    },
    "kernelspec": {
      "name": "python3",
      "display_name": "Python 3"
    },
    "language_info": {
      "name": "python"
    }
  },
  "cells": [
    {
      "cell_type": "markdown",
      "metadata": {
        "id": "view-in-github",
        "colab_type": "text"
      },
      "source": [
        "<a href=\"https://colab.research.google.com/github/xavier-1-tech/Lecture1_Kura_python/blob/main/Xavier_Lecture1_Kura.ipynb\" target=\"_parent\"><img src=\"https://colab.research.google.com/assets/colab-badge.svg\" alt=\"Open In Colab\"/></a>"
      ]
    },
    {
      "cell_type": "markdown",
      "metadata": {
        "id": "EHZJTFE_36Gp"
      },
      "source": [
        "**Class Challenges (Set One)** **Fundamentals **"
      ]
    },
    {
      "cell_type": "markdown",
      "metadata": {
        "id": "bktzR4Z94AIu"
      },
      "source": [
        "1)\n",
        "Ask for the user’s first name and display the output message\n",
        "Hello [First Name] .\n",
        "\n"
      ]
    },
    {
      "cell_type": "code",
      "metadata": {
        "id": "D1zL4j785bH8",
        "colab": {
          "base_uri": "https://localhost:8080/"
        },
        "outputId": "1e8107eb-699e-4328-d3da-0b9871eb40c0"
      },
      "source": [
        "print(\"Welcome!\")\n",
        "f_name = input(\"Please Enter Your Firstname\")\n",
        "print(\"Hello\", f_name)\n"
      ],
      "execution_count": 2,
      "outputs": [
        {
          "output_type": "stream",
          "text": [
            "Welcome!\n",
            "Please Enter Your Firstnameb\n",
            "Hello b\n"
          ],
          "name": "stdout"
        }
      ]
    },
    {
      "cell_type": "markdown",
      "metadata": {
        "id": "P7iZQrUL4QpW"
      },
      "source": [
        "2)\n",
        "Ask for the user’s first name and then ask for their surname and display the output message\n",
        "Hello [First Name] [Surname].\n",
        "\n",
        "\n",
        "\n",
        "\n",
        "\n",
        "\n",
        "\n",
        "\n"
      ]
    },
    {
      "cell_type": "code",
      "metadata": {
        "id": "V8luoi1c5dG7",
        "colab": {
          "base_uri": "https://localhost:8080/"
        },
        "outputId": "65f88f1e-e5e5-4340-c8ad-c13dc5e73cf8"
      },
      "source": [
        "print(\"Welcome!\")\n",
        "f_name = input(\"Please Enter Your Firstname\")\n",
        "s_name = input(\"Please Enter Your Surname\")\n",
        "print(\"Hello\", f_name, s_name)"
      ],
      "execution_count": 3,
      "outputs": [
        {
          "output_type": "stream",
          "text": [
            "Welcome!\n",
            "Please Enter Your Firstnameb\n",
            "Please Enter Your Surnamed\n",
            "Hello b d\n"
          ],
          "name": "stdout"
        }
      ]
    },
    {
      "cell_type": "markdown",
      "metadata": {
        "id": "LUmlLu2v4gp2"
      },
      "source": [
        "3)\n",
        "Write code that will display the joke “What do you call a bear with no teeth?” and on the next line display the answer “A gummy bear!” Try to create it using only one line of code.\n",
        "\n"
      ]
    },
    {
      "cell_type": "code",
      "metadata": {
        "id": "qU6oaxlK5emZ",
        "colab": {
          "base_uri": "https://localhost:8080/"
        },
        "outputId": "ff254aee-7545-401d-ed85-6a7ddf770c4a"
      },
      "source": [
        "print(\"What do you call a bear with no teeth? \\nA gummy bear!\")"
      ],
      "execution_count": 7,
      "outputs": [
        {
          "output_type": "stream",
          "text": [
            "What do you call a bear with no teeth? \n",
            "A gummy bear!\n"
          ],
          "name": "stdout"
        }
      ]
    },
    {
      "cell_type": "markdown",
      "metadata": {
        "id": "jwD8SJa54nAM"
      },
      "source": [
        "4)\n",
        "Ask the user to enter two numbers. \n",
        "Add them together and display the answer as\n",
        "The total is [answer].\n",
        "\n"
      ]
    },
    {
      "cell_type": "code",
      "metadata": {
        "id": "nLAQQCD15fAg",
        "colab": {
          "base_uri": "https://localhost:8080/"
        },
        "outputId": "ac5e476a-2d23-4d2d-ee27-2b97e2a9058b"
      },
      "source": [
        "\n",
        "\n",
        "print(\"Welcome!\")\n",
        "a = int(input(\"enter first number: \"))\n",
        "b = int(input(\"enter second number: \"))\n",
        " \n",
        "sum = a + b\n",
        " \n",
        "print(\"sum:\", sum)"
      ],
      "execution_count": 21,
      "outputs": [
        {
          "output_type": "stream",
          "text": [
            "Welcome!\n",
            "enter first number: 4\n",
            "enter second number: 6\n",
            "sum: 10\n"
          ],
          "name": "stdout"
        }
      ]
    },
    {
      "cell_type": "markdown",
      "metadata": {
        "id": "1E7CC19l4rb5"
      },
      "source": [
        "5)\n",
        "Ask the user to enter three numbers. \n",
        "Add together the first two numbers and then multiply this total by the third. \n",
        "Display the answer as The answer is\n",
        "[answer].\n",
        "\n",
        "\n"
      ]
    },
    {
      "cell_type": "code",
      "metadata": {
        "id": "fBWCQ3FY5uVo",
        "colab": {
          "base_uri": "https://localhost:8080/"
        },
        "outputId": "df4eb0c1-a480-42cf-c99d-f3a9f345a066"
      },
      "source": [
        "print(\"Welcome!\")\n",
        "a = int(input(\"enter first number: \"))\n",
        "b = int(input(\"enter second number: \"))\n",
        "c = int(input(\"enter third number: \"))\n",
        " \n",
        "sum = (a + b) * c\n",
        " \n",
        "print(\"sum:\", sum)"
      ],
      "execution_count": 22,
      "outputs": [
        {
          "output_type": "stream",
          "text": [
            "Welcome!\n",
            "enter first number: 1\n",
            "enter second number: 1\n",
            "enter third number: 4\n",
            "sum: 8\n"
          ],
          "name": "stdout"
        }
      ]
    },
    {
      "cell_type": "markdown",
      "metadata": {
        "id": "oEQpSy3Y40ML"
      },
      "source": [
        "6) \n",
        "Ask how many slices of pizza the user started with and ask how many slices\n",
        "they have eaten.\n",
        "Work out how many slices they have left and display the answer in a user friendly\n",
        "format.\n",
        "\n"
      ]
    },
    {
      "cell_type": "code",
      "metadata": {
        "id": "6AAC55oy5roU",
        "colab": {
          "base_uri": "https://localhost:8080/"
        },
        "outputId": "7920a7c3-5777-4167-cff6-5c6a320906dc"
      },
      "source": [
        "print(\"Welcome!\")\n",
        "a = int(input(\"enter how many slices did you start with?: \"))\n",
        "b = int(input(\"enter how many slices do you have left?: \"))\n",
        " \n",
        "sum = (a - b) \n",
        " \n",
        "print(\"You have\", sum, \"slices left.\")"
      ],
      "execution_count": 23,
      "outputs": [
        {
          "output_type": "stream",
          "text": [
            "Welcome!\n",
            "enter how many slices did you start with?: 8\n",
            "enter how many slices do you have left?: 2\n",
            "You have 6 slices left.\n"
          ],
          "name": "stdout"
        }
      ]
    },
    {
      "cell_type": "markdown",
      "metadata": {
        "id": "db2fa_SS46yT"
      },
      "source": [
        "7)\n",
        "Ask the user for their name and their age. \n",
        "Add 1 to their age and display the output [Name] next birthday you\n",
        "will be [new age].\n",
        "\n"
      ]
    },
    {
      "cell_type": "code",
      "metadata": {
        "id": "Hy--PVwx5m_8",
        "colab": {
          "base_uri": "https://localhost:8080/"
        },
        "outputId": "7011d659-c436-4e7e-db1b-839c4093f6d8"
      },
      "source": [
        "print(\"Welcome!\")\n",
        "t_name = str(input(\"please enter your name: \"))\n",
        "n_age = int(input(\"please enter your age: \"))\n",
        " \n",
        "sum = n_age + 1 \n",
        "print(t_name, \"will be\", sum, \"on their next birthday.\")"
      ],
      "execution_count": 25,
      "outputs": [
        {
          "output_type": "stream",
          "text": [
            "Welcome!\n",
            "please enter your name: ben charles\n",
            "please enter your age: 3\n",
            "ben charles will be 4 on their next birthday.\n"
          ],
          "name": "stdout"
        }
      ]
    },
    {
      "cell_type": "markdown",
      "metadata": {
        "id": "wK4e2WBH5AMy"
      },
      "source": [
        "8) \n",
        "Ask for the total price of the bill, then ask how many diners there are. \n",
        "Divide the total bill by the number of diners and show how much each\n",
        "a person must pay.\n",
        "\n"
      ]
    },
    {
      "cell_type": "code",
      "metadata": {
        "id": "3tI9k_bL5oCS",
        "colab": {
          "base_uri": "https://localhost:8080/"
        },
        "outputId": "25e298d6-1007-4c10-df88-43362c3e2d9b"
      },
      "source": [
        "print(\"Welcome!\")\n",
        "a = int(input(\"enter the total price of the bill: \"))\n",
        "b = int(input(\"enter how many diners there: \"))\n",
        " \n",
        "sum = (a / b) \n",
        " \n",
        "print(\"Each person must pay\", sum)"
      ],
      "execution_count": 28,
      "outputs": [
        {
          "output_type": "stream",
          "text": [
            "Welcome!\n",
            "enter the total price of the bill: 60\n",
            "enter how many diners there: 6\n",
            "Each person must pay 10.0\n"
          ],
          "name": "stdout"
        }
      ]
    },
    {
      "cell_type": "markdown",
      "metadata": {
        "id": "ZQBlnJm45DaL"
      },
      "source": [
        "9)\n",
        "Write a program that will ask for a number of days and then will show how many hours, minutes and seconds are in that number of days.\n",
        "\n"
      ]
    },
    {
      "cell_type": "code",
      "metadata": {
        "id": "w01EtoO85pBm",
        "colab": {
          "base_uri": "https://localhost:8080/"
        },
        "outputId": "8272683b-dbe0-452d-86d9-285b551c4e10"
      },
      "source": [
        "print(\"Welcome!\")\n",
        "days = float(input(\"enter the total number of days: \"))\n",
        "\n",
        "#Calculate the seconds from days\n",
        "seconds = days * 24 * 60 * 60\n",
        "\n",
        "#Calculate hours from days\n",
        "hours = days * 24\n",
        "\n",
        "#Calculate minutes from days\n",
        "minutes = days * 24 * 60\n",
        "\n",
        "print(\"There are\", hours,\"hr(s)\", minutes,\"min(s)\", \"and\", seconds, \"sec(s)\", \"in\", days, \"days.\")"
      ],
      "execution_count": 48,
      "outputs": [
        {
          "output_type": "stream",
          "text": [
            "Welcome!\n",
            "enter the total number of days: .2\n",
            "There are 4.800000000000001 hr(s) 288.00000000000006 min(s) and 17280.000000000004 sec(s) in 0.2 days.\n"
          ],
          "name": "stdout"
        }
      ]
    },
    {
      "cell_type": "markdown",
      "metadata": {
        "id": "5EOuJ5W75GF_"
      },
      "source": [
        "10)\n",
        "There are 2,204 pounds in a kilogram. Ask the user to enter a weight in kilograms and convert it to pounds.\n",
        "\n"
      ]
    },
    {
      "cell_type": "code",
      "metadata": {
        "id": "nz73-SQM5ou1",
        "colab": {
          "base_uri": "https://localhost:8080/"
        },
        "outputId": "1582885b-d91e-41a3-fbef-67098d412483"
      },
      "source": [
        "print(\"Welcome!\")\n",
        "kg_weight = float(input(\"enter the total weight in kilograms(kg): \"))\n",
        "\n",
        "#Calculate the pounds from kilograms\n",
        "pounds = kg_weight * 2204\n",
        "\n",
        "print(\"There are\", pounds,\"pounds(s)\",\"in\", kg_weight, \"kilogram(s)(kgs).\")"
      ],
      "execution_count": 49,
      "outputs": [
        {
          "output_type": "stream",
          "text": [
            "Welcome!\n",
            "enter the total weight in kilograms(kg): 4\n",
            "There are 8816.0 pounds(s) in 4.0 kilograms(kgs).\n"
          ],
          "name": "stdout"
        }
      ]
    },
    {
      "cell_type": "markdown",
      "metadata": {
        "id": "km3HSOtk5N5B"
      },
      "source": [
        "11) \n",
        "Task the user to enter a number over 100 and then enter a number under 10 and tell them how many times the smaller number goes into the larger number in a user-friendly format.\n"
      ]
    },
    {
      "cell_type": "code",
      "metadata": {
        "id": "sPempIqj5i79",
        "colab": {
          "base_uri": "https://localhost:8080/"
        },
        "outputId": "077b1811-351f-47fe-912d-c7f777e203a9"
      },
      "source": [
        "print(\"Welcome!\")\n",
        "a = int(input(\"enter a number over 100: \"))\n",
        "b = int(input(\"enter a number below 10: \"))\n",
        " \n",
        "sum = (a / b) \n",
        " \n",
        "print(b, \"goes into\", a,\":\", sum, \"times\")"
      ],
      "execution_count": 58,
      "outputs": [
        {
          "output_type": "stream",
          "text": [
            "Welcome!\n",
            "enter a number over 100: 452\n",
            "enter a number below 10: 2\n",
            "2 goes into 452 : 226.0 times\n"
          ],
          "name": "stdout"
        }
      ]
    },
    {
      "cell_type": "markdown",
      "metadata": {
        "id": "UydxzJKq5-Li"
      },
      "source": [
        "# Class Challenge (Set 2) If Statements \n"
      ]
    },
    {
      "cell_type": "markdown",
      "metadata": {
        "id": "SfQmyzbC6K3o"
      },
      "source": [
        "1)\n",
        "Ask for two numbers. If\n",
        "the first one is larger\n",
        "than the second, display\n",
        "the second number first\n",
        "and then the first\n",
        "number, otherwise show\n",
        "the first number first and\n",
        "then the second.\n"
      ]
    },
    {
      "cell_type": "markdown",
      "metadata": {
        "id": "LWbTEnIK6fed"
      },
      "source": [
        "2) Ask the user to enter a\n",
        "number that is under 20. If they enter a\n",
        "number that is \n",
        "20 or\n",
        "more, display the\n",
        "message “Too high”,\n",
        "otherwise display\n",
        "“Thank you”.\n"
      ]
    },
    {
      "cell_type": "markdown",
      "metadata": {
        "id": "gBy4pbDr6rB2"
      },
      "source": [
        "3) Ask the user to enter a\n",
        "number between 10 and 20\n",
        "(inclusive). If they enter a\n",
        "number within this range,\n",
        "display the message “Thank\n",
        "you”, otherwise display the\n",
        "message “Incorrect answer\"\n"
      ]
    },
    {
      "cell_type": "markdown",
      "metadata": {
        "id": "x5ujUqCI6vr4"
      },
      "source": [
        "4) Ask the user to enter their favourite colour. If they enter “red”, “RED” or\n",
        "“Red” display the message “I like red too”, otherwise display the message\n",
        "“I don’t like [colour], I prefer red”.\n"
      ]
    },
    {
      "cell_type": "markdown",
      "metadata": {
        "id": "G3ITFYxc62_r"
      },
      "source": [
        "5) Ask the user if it is raining and convert their answer to lower case\n",
        "so it doesn’t matter what case they type it in. If they answer “yes”,\n",
        "ask if it is windy. If they answer “yes” to this second question,\n",
        "display the answer “It is too windy for an umbrella”, otherwise\n",
        "display the message “Take an umbrella”. If they did not answer yes\n",
        "to the first question, display the answer “Enjoy your day”.\n"
      ]
    },
    {
      "cell_type": "markdown",
      "metadata": {
        "id": "-WF-0xkM676x"
      },
      "source": [
        "6) Ask the user’s age. If they\n",
        "are 18 or over, display the\n",
        "message “You can vote”, if\n",
        "they are aged 17, display the\n",
        "message “You can learn to\n",
        "drive”, if they are 16, display\n",
        "the message “You can buy a\n",
        "lottery ticket”, if they are\n",
        "under 16, display the\n",
        "message “You can go Trickor-\n",
        "Treating”.\n"
      ]
    },
    {
      "cell_type": "markdown",
      "metadata": {
        "id": "ipS-yOG57Bif"
      },
      "source": [
        "7) Ask the user to enter a number. If it is under 10,\n",
        "display the message “Too low”, if their number is\n",
        "between 10 and 20, display “Correct”, otherwise\n",
        "display “Too high”.\n"
      ]
    },
    {
      "cell_type": "markdown",
      "metadata": {
        "id": "ETj9m6px7Ihf"
      },
      "source": [
        "8) Ask the user to enter 1, 2 or 3. If they enter a 1, display\n",
        "the message “Thank you”, if they enter a 2, display\n",
        "“Well done”, if they enter a 3, display “Correct”. If\n",
        "they enter anything else, display “Error message”.\n",
        "\n"
      ]
    },
    {
      "cell_type": "markdown",
      "metadata": {
        "id": "9zPCMAic7X4p"
      },
      "source": [
        "9) Ask the user to enter 1, 2 or 3. If they enter a 1, display\n",
        "the message “Thank you”, if they enter a 2, display\n",
        "“Well done”, if they enter a 3, display “Correct”. If\n",
        "they enter anything else, display “Error message”."
      ]
    }
  ]
}